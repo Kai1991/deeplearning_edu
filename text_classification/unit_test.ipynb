{
 "cells": [
  {
   "cell_type": "code",
   "execution_count": 8,
   "metadata": {},
   "outputs": [
    {
     "name": "stdout",
     "output_type": "stream",
     "text": [
      "(2, 10, 5)\n",
      "(2, 8, 12)\n",
      "(2, 12)\n"
     ]
    }
   ],
   "source": [
    "import tensorflow as tf\n",
    "import numpy as np\n",
    "\n",
    "x = tf.placeholder(tf.float32, (2, 10, 5))\n",
    "y = tf.layers.conv1d(x, filters=12, kernel_size=3, padding='valid')\n",
    "z = tf.reduce_max(y, axis=[1])\n",
    "\n",
    "a = [i for i in range(100)]\n",
    "a = np.asarray(a)\n",
    "a = a.reshape((2, 10, 5))\n",
    "print a.shape\n",
    "\n",
    "init = tf.global_variables_initializer()\n",
    "sess = tf.Session()\n",
    "sess.run(init)\n",
    "z_val, y_val = sess.run([z, y], feed_dict={x:a})\n",
    "print y_val.shape\n",
    "print z_val.shape\n"
   ]
  },
  {
   "cell_type": "code",
   "execution_count": 11,
   "metadata": {},
   "outputs": [
    {
     "name": "stdout",
     "output_type": "stream",
     "text": [
      "[[ 0  1  2  3  4]\n",
      " [ 5  6  7  8  9]\n",
      " [10 11 12 13 14]]\n",
      "(3, 1)\n",
      "[[ 1]\n",
      " [ 6]\n",
      " [11]]\n",
      "(3, 1)\n",
      "[[0]\n",
      " [1]\n",
      " [2]]\n",
      "(3, 2)\n",
      "[[ 0  1]\n",
      " [ 1  6]\n",
      " [ 2 11]]\n",
      "(3, 15)\n",
      "[[0. 1. 0. 0. 0. 0. 0. 0. 0. 0. 0. 0. 0. 0. 0.]\n",
      " [0. 0. 0. 0. 0. 0. 1. 0. 0. 0. 0. 0. 0. 0. 0.]\n",
      " [0. 0. 0. 0. 0. 0. 0. 0. 0. 0. 0. 1. 0. 0. 0.]]\n"
     ]
    }
   ],
   "source": [
    "sentence = tf.placeholder(tf.int32, [3, 5])\n",
    "labels = tf.expand_dims(sentence[:, 1], 1)\n",
    "indices = tf.expand_dims(tf.range(0, 3, 1), 1)\n",
    "concated = tf.concat([indices, labels], 1)\n",
    "onehot_labels = tf.sparse_to_dense(concated, [3,15], 1.0, 0.0)\n",
    "\n",
    "sentence_val = np.asarray([i for i in range(15)])\n",
    "sentence_val = sentence_val.reshape((3,5))\n",
    "print sentence_val\n",
    "\n",
    "labels_val, indices_val, concated_val, onehot_labels_val = sess.run(\n",
    "    [labels, indices, concated, onehot_labels], feed_dict={sentence: sentence_val})\n",
    "print labels_val.shape\n",
    "print labels_val\n",
    "print indices_val.shape\n",
    "print indices_val\n",
    "print concated_val.shape\n",
    "print concated_val\n",
    "print onehot_labels_val.shape\n",
    "print onehot_labels_val"
   ]
  },
  {
   "cell_type": "code",
   "execution_count": null,
   "metadata": {},
   "outputs": [],
   "source": []
  }
 ],
 "metadata": {
  "kernelspec": {
   "display_name": "Python 2",
   "language": "python",
   "name": "python2"
  },
  "language_info": {
   "codemirror_mode": {
    "name": "ipython",
    "version": 2
   },
   "file_extension": ".py",
   "mimetype": "text/x-python",
   "name": "python",
   "nbconvert_exporter": "python",
   "pygments_lexer": "ipython2",
   "version": "2.7.13"
  }
 },
 "nbformat": 4,
 "nbformat_minor": 2
}
