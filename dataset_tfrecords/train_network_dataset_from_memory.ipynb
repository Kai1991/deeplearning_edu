{
 "cells": [
  {
   "cell_type": "code",
   "execution_count": 1,
   "metadata": {},
   "outputs": [
    {
     "name": "stdout",
     "output_type": "stream",
     "text": [
      "(50000, 3072)\n",
      "(50000,)\n",
      "(10000, 3072)\n",
      "(10000,)\n"
     ]
    }
   ],
   "source": [
    "import cPickle\n",
    "from PIL import Image\n",
    "import os\n",
    "import sys\n",
    "import numpy as np\n",
    "from matplotlib.pyplot import imshow\n",
    "import tensorflow as tf\n",
    "import random\n",
    "\n",
    "\n",
    "data_folder = 'cifar-10-batches-py'\n",
    "train_batch_1 = os.path.join(data_folder, 'data_batch_1')\n",
    "train_batch_2 = os.path.join(data_folder, 'data_batch_2')\n",
    "train_batch_3 = os.path.join(data_folder, 'data_batch_3')\n",
    "train_batch_4 = os.path.join(data_folder, 'data_batch_4')\n",
    "train_batch_5 = os.path.join(data_folder, 'data_batch_5')\n",
    "test_batch = os.path.join(data_folder, 'test_batch')\n",
    "\n",
    "def read_batch(filename):\n",
    "    with open(filename, 'r') as f:\n",
    "        data = cPickle.load(f)\n",
    "    return data\n",
    "\n",
    "train_filenames = [train_batch_1, train_batch_2, train_batch_3, train_batch_4, train_batch_5]\n",
    "train_data_arr = []\n",
    "train_labels_arr = []\n",
    "for filename in train_filenames:\n",
    "    d = read_batch(filename)\n",
    "    data = d['data']\n",
    "    labels = d['labels']\n",
    "    train_data_arr.append(data)\n",
    "    train_labels_arr.append(np.asarray(labels, dtype=np.int32))\n",
    "train_data = np.vstack(train_data_arr)\n",
    "train_labels = np.hstack(train_labels_arr)\n",
    "train_data = np.asarray(train_data, dtype=np.float32)\n",
    "train_labels = np.asarray(train_labels, dtype=np.int64)\n",
    "print train_data.shape\n",
    "print train_labels.shape\n",
    "\n",
    "test_d = read_batch(test_batch)\n",
    "test_data = test_d['data']\n",
    "test_data = np.asarray(test_data, dtype=np.float32)\n",
    "test_labels = np.asarray(test_d['labels'], dtype=np.int64)\n",
    "print test_data.shape\n",
    "print test_labels.shape"
   ]
  },
  {
   "cell_type": "code",
   "execution_count": 7,
   "metadata": {},
   "outputs": [],
   "source": [
    "batch_size = 20\n",
    "dataset = tf.data.Dataset.from_tensor_slices((train_data[0:200], train_labels[0:200]))\n",
    "dataset = dataset.batch(batch_size)\n",
    "dataset = dataset.repeat()\n",
    "# iterator = dataset.make_one_shot_iterator()\n",
    "iterator = dataset.make_initializable_iterator()\n",
    "batch_imgs, batch_labels = iterator.get_next()\n"
   ]
  },
  {
   "cell_type": "code",
   "execution_count": 3,
   "metadata": {},
   "outputs": [],
   "source": [
    "def cnn_model(x, y):\n",
    "    with tf.name_scope(\"inputs\"):\n",
    "        is_training = tf.placeholder(tf.bool, name=\"is_training\")\n",
    "        x_image = tf.reshape(x, [-1, 3, 32, 32])\n",
    "        x_image = tf.transpose(x_image, perm=[0, 2, 3, 1])\n",
    "    with tf.name_scope(\"model\"):\n",
    "        conv1 = tf.layers.conv2d(inputs=x_image,\n",
    "                                 filters=32,\n",
    "                                 kernel_size=[5,5],\n",
    "                                 padding='same',\n",
    "                                 activation=tf.nn.relu)\n",
    "        pool1 = tf.layers.max_pooling2d(inputs=conv1,\n",
    "                                        pool_size=[2,2],\n",
    "                                        strides=2)\n",
    "        \n",
    "        conv2 = tf.layers.conv2d(inputs=pool1,\n",
    "                                 filters=64,\n",
    "                                 kernel_size=[5,5],\n",
    "                                 padding='same',\n",
    "                                 activation=tf.nn.relu)\n",
    "        pool2 = tf.layers.max_pooling2d(inputs=conv2,\n",
    "                                        pool_size=[2,2],\n",
    "                                        strides=2)\n",
    "        \n",
    "        conv3 = tf.layers.conv2d(inputs=pool2,\n",
    "                                 filters=64,\n",
    "                                 kernel_size=[5,5],\n",
    "                                 padding='same',\n",
    "                                 activation=tf.nn.relu)\n",
    "        pool3 = tf.layers.max_pooling2d(inputs=conv3,\n",
    "                                        pool_size=[2,2],\n",
    "                                        strides=2)\n",
    "        \n",
    "        pool3_flatten = tf.layers.flatten(pool3)\n",
    "        dense = tf.layers.dense(inputs=pool3_flatten,\n",
    "                                units=128,\n",
    "                                activation=tf.nn.relu)\n",
    "        dropout = tf.layers.dropout(inputs=dense,\n",
    "                                    rate=0.1,\n",
    "                                    training=is_training)\n",
    "        logits = tf.layers.dense(inputs=dropout,\n",
    "                                units=10)\n",
    "    return is_training, logits"
   ]
  },
  {
   "cell_type": "code",
   "execution_count": 9,
   "metadata": {},
   "outputs": [
    {
     "name": "stdout",
     "output_type": "stream",
     "text": [
      "[Train] Step   50: ce: 1.97382, acc: 0.20000\n",
      "[Train] Step  100: ce: 0.90876, acc: 0.65000\n",
      "[Train] Step  150: ce: 0.23699, acc: 1.00000\n",
      "[Train] Step  200: ce: 0.05548, acc: 1.00000\n",
      "[Train] Step  250: ce: 0.01611, acc: 1.00000\n",
      "[Train] Step  300: ce: 0.02590, acc: 1.00000\n",
      "[Train] Step  350: ce: 0.00244, acc: 1.00000\n",
      "[Train] Step  400: ce: 0.00237, acc: 1.00000\n",
      "[Train] Step  450: ce: 0.18420, acc: 0.95000\n",
      "[Train] Step  500: ce: 0.05949, acc: 1.00000\n"
     ]
    }
   ],
   "source": [
    "is_training, logits = cnn_model(batch_imgs, batch_labels)\n",
    "with tf.name_scope('metrics'):\n",
    "    cross_entropy = tf.reduce_mean(\n",
    "        tf.nn.sparse_softmax_cross_entropy_with_logits(labels=batch_labels, logits=logits))\n",
    "    correct_prediction = tf.equal(tf.argmax(logits, 1), batch_labels)\n",
    "    accuracy = tf.reduce_mean(tf.cast(correct_prediction, \"float\"))\n",
    "with tf.name_scope('train_op'):\n",
    "    train_op = tf.train.AdamOptimizer(1e-3).minimize(cross_entropy)\n",
    "\n",
    "init = tf.global_variables_initializer()\n",
    "\n",
    "train_steps = 500\n",
    "with tf.Session() as sess:\n",
    "    sess.run(init)\n",
    "    sess.run(iterator.initializer)\n",
    "    for i in range(train_steps):\n",
    "        cross_entropy_val, acc_val, _ = sess.run([cross_entropy, accuracy, train_op],\n",
    "                                                 feed_dict = {\n",
    "                                                     is_training: True\n",
    "                                                 })\n",
    "\n",
    "        if (i+1) % 50 == 0:\n",
    "            print '[Train] Step %4d: ce: %4.5f, acc: %4.5f' % (i+1, cross_entropy_val, acc_val)"
   ]
  },
  {
   "cell_type": "code",
   "execution_count": null,
   "metadata": {},
   "outputs": [],
   "source": []
  }
 ],
 "metadata": {
  "kernelspec": {
   "display_name": "Python 2",
   "language": "python",
   "name": "python2"
  },
  "language_info": {
   "codemirror_mode": {
    "name": "ipython",
    "version": 2
   },
   "file_extension": ".py",
   "mimetype": "text/x-python",
   "name": "python",
   "nbconvert_exporter": "python",
   "pygments_lexer": "ipython2",
   "version": "2.7.10"
  }
 },
 "nbformat": 4,
 "nbformat_minor": 2
}
