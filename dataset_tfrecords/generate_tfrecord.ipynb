{
 "cells": [
  {
   "cell_type": "code",
   "execution_count": null,
   "metadata": {},
   "outputs": [],
   "source": [
    "import cPickle\n",
    "from PIL import Image\n",
    "import os\n",
    "import sys\n",
    "import numpy as np\n",
    "from matplotlib.pyplot import imshow\n",
    "import tensorflow as tf\n",
    "\n",
    "\n",
    "data_folder = 'cifar-10-batches-py'\n",
    "print os.listdir(data_folder)"
   ]
  },
  {
   "cell_type": "code",
   "execution_count": null,
   "metadata": {},
   "outputs": [],
   "source": [
    "train_batch_1 = os.path.join(data_folder, 'data_batch_1')\n",
    "train_batch_2 = os.path.join(data_folder, 'data_batch_2')\n",
    "train_batch_3 = os.path.join(data_folder, 'data_batch_3')\n",
    "train_batch_4 = os.path.join(data_folder, 'data_batch_4')\n",
    "train_batch_5 = os.path.join(data_folder, 'data_batch_5')\n",
    "test_batch = os.path.join(data_folder, 'test_batch')"
   ]
  },
  {
   "cell_type": "code",
   "execution_count": null,
   "metadata": {},
   "outputs": [],
   "source": [
    "def read_batch(filename):\n",
    "    with open(filename, 'r') as f:\n",
    "        data = cPickle.load(f)\n",
    "    return data"
   ]
  },
  {
   "cell_type": "code",
   "execution_count": null,
   "metadata": {},
   "outputs": [],
   "source": [
    "d1 = read_batch(train_batch_1)\n",
    "print type(d1)\n",
    "print d1.keys()\n",
    "data1 = d1['data']\n",
    "labels1 = d1['labels']\n",
    "batch_label1 = d1['batch_label']\n",
    "filenames1 = d1['filenames']\n",
    "print type(data1), type(labels1), type(batch_label1), type(filenames1)\n",
    "\n",
    "print data1.shape\n",
    "print len(labels1)\n",
    "print batch_label1\n",
    "print len(filenames1)\n",
    "\n",
    "print data1[0:3]\n",
    "print labels1[0:3]\n",
    "print filenames1[0:3]"
   ]
  },
  {
   "cell_type": "code",
   "execution_count": null,
   "metadata": {},
   "outputs": [],
   "source": [
    "%matplotlib inline\n",
    "example_image_np = data1[0]\n",
    "example_image_np = example_image_np.reshape((32, 32, 3))\n",
    "imshow(example_image_np)"
   ]
  },
  {
   "cell_type": "code",
   "execution_count": null,
   "metadata": {},
   "outputs": [],
   "source": [
    "%matplotlib inline\n",
    "example_image_np = data1[100]\n",
    "example_image_np = example_image_np.reshape((3, 32, 32))\n",
    "example_image_np = np.swapaxes(example_image_np, 0, 2)\n",
    "example_image_np = np.swapaxes(example_image_np, 0, 1)\n",
    "print example_image_np.shape\n",
    "imshow(example_image_np)\n",
    "example_image = Image.fromarray(example_image_np)\n",
    "print example_image.size"
   ]
  },
  {
   "cell_type": "code",
   "execution_count": null,
   "metadata": {},
   "outputs": [],
   "source": [
    "train_filenames = [train_batch_1, train_batch_2, train_batch_3, train_batch_4, train_batch_5]\n",
    "train_data_arr = []\n",
    "train_labels_arr = []\n",
    "for filename in train_filenames:\n",
    "    d = read_batch(filename)\n",
    "    data = d['data']\n",
    "    labels = d['labels']\n",
    "    train_data_arr.append(data)\n",
    "    train_labels_arr.append(np.asarray(labels, dtype=np.int32))\n",
    "train_data = np.vstack(train_data_arr)\n",
    "train_labels = np.hstack(train_labels_arr)\n",
    "print train_data.shape\n",
    "print train_labels.shape\n",
    "\n",
    "test_d = read_batch(test_batch)\n",
    "test_data = test_d['data']\n",
    "test_labels = np.asarray(test_d['labels'], dtype=np.int32)\n",
    "print test_data.shape\n",
    "print test_labels.shape"
   ]
  },
  {
   "cell_type": "code",
   "execution_count": null,
   "metadata": {},
   "outputs": [],
   "source": [
    "def generate_tf_records(data, labels, output_dir, filename_prefix = 'tfrecord', num_in_each_file = 1000):\n",
    "    assert len(data) == len(labels)\n",
    "    num_examples = data.shape[0]\n",
    "    num_tfrecord_files = num_examples / num_in_each_file\n",
    "    assert num_examples % num_in_each_file == 0\n",
    "    \n",
    "    if not os.path.exists(output_dir):\n",
    "        os.mkdir(output_dir)\n",
    "    \n",
    "    data = data.reshape((num_examples, 3, 32, 32))\n",
    "    data = np.swapaxes(data, 1, 3)\n",
    "    data = np.swapaxes(data, 1, 2)\n",
    "    \n",
    "    for i in range(num_tfrecord_files):\n",
    "        output_tfrecord_filename = os.path.join(output_dir, '%s-%d' % (filename_prefix, i))\n",
    "        tf.logging.info(\"generating %s\" % output_tfrecord_filename)\n",
    "        writer = tf.python_io.TFRecordWriter(output_tfrecord_filename)\n",
    "        start_index = i * num_in_each_file\n",
    "        end_index = (i + 1) * num_in_each_file\n",
    "        for j in range(start_index, end_index):\n",
    "            img_np = data[j]\n",
    "            label = labels[j]\n",
    "            img = Image.fromarray(img_np)\n",
    "            img_raw = img.tobytes()\n",
    "            example = tf.train.Example(features=tf.train.Features(feature={\n",
    "                \"label\": tf.train.Feature(int64_list=tf.train.Int64List(value=[label])),\n",
    "                \"img_raw\": tf.train.Feature(bytes_list=tf.train.BytesList(value=[img_raw]))\n",
    "            }))\n",
    "            writer.write(example.SerializeToString())\n",
    "        writer.close()    "
   ]
  },
  {
   "cell_type": "code",
   "execution_count": null,
   "metadata": {},
   "outputs": [],
   "source": [
    "generate_tf_records(test_data, test_labels, \"test_tfrecords\")\n",
    "generate_tf_records(train_data, train_labels, \"train_tfrecords\")"
   ]
  },
  {
   "cell_type": "code",
   "execution_count": null,
   "metadata": {},
   "outputs": [],
   "source": []
  }
 ],
 "metadata": {
  "kernelspec": {
   "display_name": "Python 2",
   "language": "python",
   "name": "python2"
  },
  "language_info": {
   "codemirror_mode": {
    "name": "ipython",
    "version": 2
   },
   "file_extension": ".py",
   "mimetype": "text/x-python",
   "name": "python",
   "nbconvert_exporter": "python",
   "pygments_lexer": "ipython2",
   "version": "2.7.10"
  }
 },
 "nbformat": 4,
 "nbformat_minor": 2
}
