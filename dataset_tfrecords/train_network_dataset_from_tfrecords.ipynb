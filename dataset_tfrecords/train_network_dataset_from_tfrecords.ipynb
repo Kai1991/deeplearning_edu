{
 "cells": [
  {
   "cell_type": "code",
   "execution_count": 16,
   "metadata": {},
   "outputs": [
    {
     "name": "stdout",
     "output_type": "stream",
     "text": [
      "50\n",
      "['tfrecords/train_tfrecords/tfrecord-0', 'tfrecords/train_tfrecords/tfrecord-1', 'tfrecords/train_tfrecords/tfrecord-10']\n",
      "10\n",
      "['tfrecords/test_tfrecords/tfrecord-0', 'tfrecords/test_tfrecords/tfrecord-1', 'tfrecords/test_tfrecords/tfrecord-2']\n"
     ]
    }
   ],
   "source": [
    "import cPickle\n",
    "from PIL import Image\n",
    "import os\n",
    "import sys\n",
    "import numpy as np\n",
    "from matplotlib.pyplot import imshow\n",
    "import tensorflow as tf\n",
    "import random\n",
    "import datetime\n",
    "\n",
    "\n",
    "train_tfrecord_filenames = []\n",
    "test_tfrecord_filenames = []\n",
    "\n",
    "train_tfrecord_folder = 'tfrecords/train_tfrecords'\n",
    "test_tfrecord_folder = 'tfrecords/test_tfrecords'\n",
    "\n",
    "for filename in os.listdir(train_tfrecord_folder):\n",
    "    train_tfrecord_filenames.append(os.path.join(train_tfrecord_folder, filename))\n",
    "for filename in os.listdir(test_tfrecord_folder):\n",
    "    test_tfrecord_filenames.append(os.path.join(test_tfrecord_folder, filename))\n",
    "\n",
    "print len(train_tfrecord_filenames)\n",
    "print train_tfrecord_filenames[0:3]\n",
    "print len(test_tfrecord_filenames)\n",
    "print test_tfrecord_filenames[0:3]\n",
    "        "
   ]
  },
  {
   "cell_type": "code",
   "execution_count": 17,
   "metadata": {},
   "outputs": [],
   "source": [
    "filename_placeholder = tf.placeholder(tf.string, shape=[None])\n",
    "\n",
    "def _parse_function(example_proto):\n",
    "    features = {\"img_raw\": tf.FixedLenFeature((), tf.string, default_value=\"\"),\n",
    "                \"label\": tf.FixedLenFeature((), tf.int64, default_value=0)}\n",
    "    parsed_features = tf.parse_single_example(example_proto, features)\n",
    "    img_decoded = tf.decode_raw(parsed_features['img_raw'], tf.uint8)\n",
    "    return img_decoded, parsed_features['label']\n",
    "\n",
    "dataset = tf.data.TFRecordDataset(filename_placeholder)\n",
    "dataset = dataset.map(_parse_function)\n",
    "\n",
    "batch_size = 20\n",
    "dataset = dataset.prefetch(buffer_size=2000)\n",
    "dataset = dataset.batch(batch_size)\n",
    "dataset = dataset.shuffle(buffer_size=2000)\n",
    "dataset = dataset.repeat()\n",
    "# iterator = dataset.make_one_shot_iterator()\n",
    "iterator = dataset.make_initializable_iterator()\n",
    "batch_imgs, batch_labels = iterator.get_next()\n",
    "batch_imgs = tf.cast(batch_imgs, tf.float32)\n",
    "batch_labels = tf.cast(batch_labels, tf.int64)\n"
   ]
  },
  {
   "cell_type": "code",
   "execution_count": 18,
   "metadata": {},
   "outputs": [],
   "source": [
    "def cnn_model(x, y):\n",
    "    with tf.name_scope(\"inputs\"):\n",
    "        is_training = tf.placeholder(tf.bool, name=\"is_training\")\n",
    "        x_image = tf.reshape(x, [-1, 32, 32, 3])\n",
    "    with tf.name_scope(\"model\"):\n",
    "        conv1 = tf.layers.conv2d(inputs=x_image,\n",
    "                                 filters=32,\n",
    "                                 kernel_size=[5,5],\n",
    "                                 padding='same',\n",
    "                                 activation=tf.nn.relu)\n",
    "        pool1 = tf.layers.max_pooling2d(inputs=conv1,\n",
    "                                        pool_size=[2,2],\n",
    "                                        strides=2)\n",
    "        \n",
    "        conv2 = tf.layers.conv2d(inputs=pool1,\n",
    "                                 filters=64,\n",
    "                                 kernel_size=[5,5],\n",
    "                                 padding='same',\n",
    "                                 activation=tf.nn.relu)\n",
    "        pool2 = tf.layers.max_pooling2d(inputs=conv2,\n",
    "                                        pool_size=[2,2],\n",
    "                                        strides=2)\n",
    "        \n",
    "        conv3 = tf.layers.conv2d(inputs=pool2,\n",
    "                                 filters=64,\n",
    "                                 kernel_size=[5,5],\n",
    "                                 padding='same',\n",
    "                                 activation=tf.nn.relu)\n",
    "        pool3 = tf.layers.max_pooling2d(inputs=conv3,\n",
    "                                        pool_size=[2,2],\n",
    "                                        strides=2)\n",
    "        \n",
    "        pool3_flatten = tf.layers.flatten(pool3)\n",
    "        dense = tf.layers.dense(inputs=pool3_flatten,\n",
    "                                units=128,\n",
    "                                activation=tf.nn.relu)\n",
    "        dropout = tf.layers.dropout(inputs=dense,\n",
    "                                    rate=0.1,\n",
    "                                    training=is_training)\n",
    "        logits = tf.layers.dense(inputs=dropout,\n",
    "                                units=10)\n",
    "    return is_training, logits"
   ]
  },
  {
   "cell_type": "code",
   "execution_count": 20,
   "metadata": {},
   "outputs": [
    {
     "name": "stdout",
     "output_type": "stream",
     "text": [
      "[Train] Step   50: ce: 2.19784, acc: 0.15000 [Time: 8.21 s]\n",
      "[Train] Step  100: ce: 2.10620, acc: 0.15000 [Time: 5.13 s]\n",
      "[Train] Step  150: ce: 1.73219, acc: 0.45000 [Time: 5.503 s]\n",
      "[Train] Step  200: ce: 1.97300, acc: 0.25000 [Time: 5.432 s]\n",
      "[Train] Step  250: ce: 1.77547, acc: 0.30000 [Time: 5.433 s]\n",
      "[Train] Step  300: ce: 1.65656, acc: 0.35000 [Time: 5.173 s]\n",
      "[Train] Step  350: ce: 1.77073, acc: 0.40000 [Time: 5.13 s]\n",
      "[Train] Step  400: ce: 2.06213, acc: 0.30000 [Time: 5.125 s]\n",
      "[Train] Step  450: ce: 1.50392, acc: 0.55000 [Time: 5.12 s]\n",
      "[Train] Step  500: ce: 1.38159, acc: 0.50000 [Time: 5.91 s]\n"
     ]
    }
   ],
   "source": [
    "is_training, logits = cnn_model(batch_imgs, batch_labels)\n",
    "with tf.name_scope('metrics'):\n",
    "    cross_entropy = tf.reduce_mean(\n",
    "        tf.nn.sparse_softmax_cross_entropy_with_logits(labels=batch_labels, logits=logits))\n",
    "    correct_prediction = tf.equal(tf.argmax(logits, 1), batch_labels)\n",
    "    accuracy = tf.reduce_mean(tf.cast(correct_prediction, \"float\"))\n",
    "with tf.name_scope('train_op'):\n",
    "    train_op = tf.train.AdamOptimizer(1e-3).minimize(cross_entropy)\n",
    "\n",
    "init = tf.global_variables_initializer()\n",
    "\n",
    "train_steps = 500\n",
    "with tf.Session() as sess:\n",
    "    sess.run(init)\n",
    "    sess.run(iterator.initializer,\n",
    "             feed_dict = {\n",
    "                 filename_placeholder: train_tfrecord_filenames,\n",
    "             })\n",
    "    starttime = datetime.datetime.now()\n",
    "    for i in range(train_steps):\n",
    "        cross_entropy_val, acc_val, _ = sess.run([cross_entropy, accuracy, train_op],\n",
    "                                                 feed_dict = {\n",
    "                                                     is_training: True\n",
    "                                                 })\n",
    "\n",
    "        if (i+1) % 50 == 0:\n",
    "            endtime = datetime.datetime.now()\n",
    "            timedelta = endtime - starttime\n",
    "            print '[Train] Step %4d: ce: %4.5f, acc: %4.5f [Time: %d.%d s]' % (\n",
    "                i+1, cross_entropy_val, acc_val,\n",
    "                timedelta.seconds, timedelta.microseconds / 1000)\n",
    "            starttime = datetime.datetime.now()"
   ]
  },
  {
   "cell_type": "code",
   "execution_count": null,
   "metadata": {},
   "outputs": [],
   "source": []
  }
 ],
 "metadata": {
  "kernelspec": {
   "display_name": "Python 2",
   "language": "python",
   "name": "python2"
  },
  "language_info": {
   "codemirror_mode": {
    "name": "ipython",
    "version": 2
   },
   "file_extension": ".py",
   "mimetype": "text/x-python",
   "name": "python",
   "nbconvert_exporter": "python",
   "pygments_lexer": "ipython2",
   "version": "2.7.10"
  }
 },
 "nbformat": 4,
 "nbformat_minor": 2
}
