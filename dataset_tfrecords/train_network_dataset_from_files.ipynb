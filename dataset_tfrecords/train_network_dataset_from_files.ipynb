{
 "cells": [
  {
   "cell_type": "code",
   "execution_count": 1,
   "metadata": {},
   "outputs": [
    {
     "name": "stdout",
     "output_type": "stream",
     "text": [
      "['images/train_images/leptodactylus_pentadactylus_s_000004.png', 'images/train_images/camion_s_000148.png', 'images/train_images/tipper_truck_s_001250.png']\n",
      "[6, 9, 9]\n",
      "['images/test_images/domestic_cat_s_000907.png', 'images/test_images/hydrofoil_s_000078.png', 'images/test_images/sea_boat_s_001456.png']\n",
      "[3, 8, 8]\n",
      "50000 50000\n",
      "10000 10000\n"
     ]
    }
   ],
   "source": [
    "import cPickle\n",
    "from PIL import Image\n",
    "import os\n",
    "import sys\n",
    "import numpy as np\n",
    "from matplotlib.pyplot import imshow\n",
    "import tensorflow as tf\n",
    "import random\n",
    "\n",
    "\n",
    "def read_filemapping(filemapping_name):\n",
    "    img_filenames = []\n",
    "    labels = []\n",
    "    with open(filemapping_name, 'r') as f:\n",
    "        lines = f.readlines()\n",
    "        for line in lines:\n",
    "            filename, label = line.strip('\\n').split('\\t')\n",
    "            label = int(label)\n",
    "            labels.append(label)\n",
    "            img_filenames.append(filename)\n",
    "    return img_filenames, labels\n",
    "\n",
    "train_img_filenames, train_labels = read_filemapping('images/train_filemapping')\n",
    "test_img_filenames, test_labels = read_filemapping('images/test_filemapping')\n",
    "print train_img_filenames[0:3]\n",
    "print train_labels[0:3]\n",
    "print test_img_filenames[0:3]\n",
    "print test_labels[0:3]\n",
    "print len(train_img_filenames), len(train_labels)\n",
    "print len(test_img_filenames), len(test_labels)\n",
    "        "
   ]
  },
  {
   "cell_type": "code",
   "execution_count": 9,
   "metadata": {},
   "outputs": [],
   "source": [
    "filename_placeholder = tf.placeholder(tf.string, shape=[None])\n",
    "labels_placeholder = tf.placeholder(tf.int32, shape=[None])\n",
    "\n",
    "dataset = tf.data.Dataset.from_tensor_slices((filename_placeholder, labels_placeholder))\n",
    "\n",
    "def read_img(filename, label):\n",
    "    img_string = tf.read_file(filename)\n",
    "    img_decoded = tf.image.decode_image(img_string)\n",
    "    return img_decoded, label\n",
    "\n",
    "batch_size = 20\n",
    "dataset = dataset.map(read_img, num_parallel_calls=batch_size)\n",
    "dataset = dataset\n",
    "dataset = dataset.batch(batch_size)\n",
    "dataset = dataset.shuffle(buffer_size=2000)\n",
    "dataset = dataset.repeat()\n",
    "# iterator = dataset.make_one_shot_iterator()\n",
    "iterator = dataset.make_initializable_iterator()\n",
    "batch_imgs, batch_labels = iterator.get_next()\n",
    "batch_imgs = tf.cast(batch_imgs, tf.float32)\n",
    "batch_labels = tf.cast(batch_labels, tf.int64)\n"
   ]
  },
  {
   "cell_type": "code",
   "execution_count": 10,
   "metadata": {},
   "outputs": [],
   "source": [
    "def cnn_model(x, y):\n",
    "    with tf.name_scope(\"inputs\"):\n",
    "        is_training = tf.placeholder(tf.bool, name=\"is_training\")\n",
    "        x_image = tf.reshape(x, [-1, 3, 32, 32])\n",
    "        x_image = tf.transpose(x_image, perm=[0, 2, 3, 1])\n",
    "    with tf.name_scope(\"model\"):\n",
    "        conv1 = tf.layers.conv2d(inputs=x_image,\n",
    "                                 filters=32,\n",
    "                                 kernel_size=[5,5],\n",
    "                                 padding='same',\n",
    "                                 activation=tf.nn.relu)\n",
    "        pool1 = tf.layers.max_pooling2d(inputs=conv1,\n",
    "                                        pool_size=[2,2],\n",
    "                                        strides=2)\n",
    "        \n",
    "        conv2 = tf.layers.conv2d(inputs=pool1,\n",
    "                                 filters=64,\n",
    "                                 kernel_size=[5,5],\n",
    "                                 padding='same',\n",
    "                                 activation=tf.nn.relu)\n",
    "        pool2 = tf.layers.max_pooling2d(inputs=conv2,\n",
    "                                        pool_size=[2,2],\n",
    "                                        strides=2)\n",
    "        \n",
    "        conv3 = tf.layers.conv2d(inputs=pool2,\n",
    "                                 filters=64,\n",
    "                                 kernel_size=[5,5],\n",
    "                                 padding='same',\n",
    "                                 activation=tf.nn.relu)\n",
    "        pool3 = tf.layers.max_pooling2d(inputs=conv3,\n",
    "                                        pool_size=[2,2],\n",
    "                                        strides=2)\n",
    "        \n",
    "        pool3_flatten = tf.layers.flatten(pool3)\n",
    "        dense = tf.layers.dense(inputs=pool3_flatten,\n",
    "                                units=128,\n",
    "                                activation=tf.nn.relu)\n",
    "        dropout = tf.layers.dropout(inputs=dense,\n",
    "                                    rate=0.1,\n",
    "                                    training=is_training)\n",
    "        logits = tf.layers.dense(inputs=dropout,\n",
    "                                units=10)\n",
    "    return is_training, logits"
   ]
  },
  {
   "cell_type": "code",
   "execution_count": 12,
   "metadata": {},
   "outputs": [
    {
     "name": "stdout",
     "output_type": "stream",
     "text": [
      "[Train] Step   50: ce: 2.15895, acc: 0.15000\n",
      "[Train] Step  100: ce: 2.14008, acc: 0.20000\n",
      "[Train] Step  150: ce: 2.35576, acc: 0.15000\n",
      "[Train] Step  200: ce: 1.93970, acc: 0.30000\n",
      "[Train] Step  250: ce: 2.38677, acc: 0.25000\n",
      "[Train] Step  300: ce: 2.18502, acc: 0.20000\n",
      "[Train] Step  350: ce: 2.32091, acc: 0.25000\n",
      "[Train] Step  400: ce: 2.16806, acc: 0.20000\n",
      "[Train] Step  450: ce: 2.39551, acc: 0.05000\n",
      "[Train] Step  500: ce: 2.36872, acc: 0.30000\n"
     ]
    }
   ],
   "source": [
    "is_training, logits = cnn_model(batch_imgs, batch_labels)\n",
    "with tf.name_scope('metrics'):\n",
    "    cross_entropy = tf.reduce_mean(\n",
    "        tf.nn.sparse_softmax_cross_entropy_with_logits(labels=batch_labels, logits=logits))\n",
    "    correct_prediction = tf.equal(tf.argmax(logits, 1), batch_labels)\n",
    "    accuracy = tf.reduce_mean(tf.cast(correct_prediction, \"float\"))\n",
    "with tf.name_scope('train_op'):\n",
    "    train_op = tf.train.AdamOptimizer(1e-3).minimize(cross_entropy)\n",
    "\n",
    "init = tf.global_variables_initializer()\n",
    "\n",
    "train_steps = 500\n",
    "with tf.Session() as sess:\n",
    "    sess.run(init)\n",
    "    sess.run(iterator.initializer,\n",
    "             feed_dict = {\n",
    "                 filename_placeholder: train_img_filenames,\n",
    "                 labels_placeholder: train_labels\n",
    "             })\n",
    "    for i in range(train_steps):\n",
    "        cross_entropy_val, acc_val, _ = sess.run([cross_entropy, accuracy, train_op],\n",
    "                                                 feed_dict = {\n",
    "                                                     is_training: True\n",
    "                                                 })\n",
    "\n",
    "        if (i+1) % 50 == 0:\n",
    "            print '[Train] Step %4d: ce: %4.5f, acc: %4.5f' % (i+1, cross_entropy_val, acc_val)"
   ]
  },
  {
   "cell_type": "code",
   "execution_count": null,
   "metadata": {},
   "outputs": [],
   "source": []
  }
 ],
 "metadata": {
  "kernelspec": {
   "display_name": "Python 2",
   "language": "python",
   "name": "python2"
  },
  "language_info": {
   "codemirror_mode": {
    "name": "ipython",
    "version": 2
   },
   "file_extension": ".py",
   "mimetype": "text/x-python",
   "name": "python",
   "nbconvert_exporter": "python",
   "pygments_lexer": "ipython2",
   "version": "2.7.10"
  }
 },
 "nbformat": 4,
 "nbformat_minor": 2
}
